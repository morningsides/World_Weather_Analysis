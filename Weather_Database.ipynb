{
 "cells": [
  {
   "cell_type": "code",
   "execution_count": 19,
   "metadata": {},
   "outputs": [],
   "source": [
    "# Import the dependencies.\n",
    "import pandas as pd\n",
    "import gmaps\n",
    "import requests\n",
    "from datetime import datetime\n",
    "import numpy as np\n",
    "# Import the API keys.\n",
    "from config import api_keys\n",
    "# Use the citipy module to determine city based on latitude and longitude.\n",
    "from citipy import citipy"
   ]
  },
  {
   "cell_type": "code",
   "execution_count": 20,
   "metadata": {},
   "outputs": [],
   "source": [
    "# Create a set of random latitude and longitude combinations.\n",
    "lats = np.random.uniform(low=-90.000, high=90.000, size=1500)\n",
    "lngs = np.random.uniform(low=-180.000, high=180.000, size=1500)\n",
    "lat_lngs = zip(lats, lngs)\n",
    "lat_lngs # Create a set of random latitude and longitude combinations.\n",
    "lats = np.random.uniform(low=-90.000, high=90.000, size=1500)\n",
    "lngs = np.random.uniform(low=-180.000, high=180.000, size=1500)\n",
    "lat_lngs = zip(lats, lngs)\n"
   ]
  },
  {
   "cell_type": "code",
   "execution_count": 21,
   "metadata": {},
   "outputs": [],
   "source": [
    "# Add the latitudes and longitudes to a list.\n",
    "coordinates = list(lat_lngs)"
   ]
  },
  {
   "cell_type": "code",
   "execution_count": 22,
   "metadata": {
    "tags": []
   },
   "outputs": [
    {
     "output_type": "stream",
     "name": "stdout",
     "text": "617\n"
    }
   ],
   "source": [
    "# Create a list for holding the cities.\n",
    "cities = []\n",
    "# Identify the nearest city for each latitude and longitude combination.\n",
    "for coordinate in coordinates:\n",
    "    city = citipy.nearest_city(coordinate[0], coordinate[1]).city_name\n",
    "    \n",
    "    # If the city is unique, then we will add it to the cities list.\n",
    "    if city not in cities:\n",
    "        cities.append(city)\n",
    "# Print the city count to confirm sufficient count.\n",
    "print(len(cities))"
   ]
  },
  {
   "cell_type": "code",
   "execution_count": 23,
   "metadata": {},
   "outputs": [],
   "source": [
    "# Starting URL for Weather Map API Call.\n",
    "url = \"http://api.openweathermap.org/data/2.5/weather?units=Imperial&APPID=\" + api_keys['weather_api_key']"
   ]
  },
  {
   "cell_type": "code",
   "execution_count": 24,
   "metadata": {
    "tags": []
   },
   "outputs": [
    {
     "output_type": "stream",
     "name": "stdout",
     "text": "Beginning Data Retrieval     \n-----------------------------\nProcessing Record 1 of Set 1 | norman wells\nProcessing Record 2 of Set 1 | mahon\nProcessing Record 3 of Set 1 | bambous virieux\nProcessing Record 4 of Set 1 | albany\nProcessing Record 5 of Set 1 | arraial do cabo\nProcessing Record 6 of Set 1 | lavrentiya\nProcessing Record 7 of Set 1 | butaritari\nProcessing Record 8 of Set 1 | isla vista\nProcessing Record 9 of Set 1 | carnarvon\nProcessing Record 10 of Set 1 | cherskiy\nProcessing Record 11 of Set 1 | bilibino\nProcessing Record 12 of Set 1 | manggar\nProcessing Record 13 of Set 1 | barrow\nProcessing Record 14 of Set 1 | mataura\nProcessing Record 15 of Set 1 | san andres\nProcessing Record 16 of Set 1 | port hedland\nProcessing Record 17 of Set 1 | seymchan\nProcessing Record 18 of Set 1 | ponta delgada\nProcessing Record 19 of Set 1 | khatanga\nProcessing Record 20 of Set 1 | punta arenas\nProcessing Record 21 of Set 1 | nouadhibou\nProcessing Record 22 of Set 1 | hilo\nProcessing Record 23 of Set 1 | avarua\nProcessing Record 24 of Set 1 | rikitea\nProcessing Record 25 of Set 1 | henties bay\nProcessing Record 26 of Set 1 | busselton\nProcessing Record 27 of Set 1 | marawi\nProcessing Record 28 of Set 1 | cabo san lucas\nProcessing Record 29 of Set 1 | egvekinot\nProcessing Record 30 of Set 1 | hobart\nProcessing Record 31 of Set 1 | inta\nProcessing Record 32 of Set 1 | tiksi\nProcessing Record 33 of Set 1 | ushuaia\nProcessing Record 34 of Set 1 | koppang\nProcessing Record 35 of Set 1 | nizhneyansk\nCity not found ¯\\_(ツ)_/¯\nProcessing Record 36 of Set 1 | yellowknife\nProcessing Record 37 of Set 1 | tumannyy\nCity not found ¯\\_(ツ)_/¯\nProcessing Record 38 of Set 1 | taolanaro\nCity not found ¯\\_(ツ)_/¯\nProcessing Record 39 of Set 1 | cockburn town\nProcessing Record 40 of Set 1 | leningradskiy\nProcessing Record 41 of Set 1 | bagdarin\nProcessing Record 42 of Set 1 | chokwe\nProcessing Record 43 of Set 1 | gummidipundi\nProcessing Record 44 of Set 1 | grand gaube\nProcessing Record 45 of Set 1 | amderma\nCity not found ¯\\_(ツ)_/¯\nProcessing Record 46 of Set 1 | puerto escondido\nProcessing Record 47 of Set 1 | berdigestyakh\nProcessing Record 48 of Set 1 | svencionys\nProcessing Record 49 of Set 1 | meybod\nProcessing Record 50 of Set 1 | nanning\nProcessing Record 1 of Set 2 | ngukurr\nCity not found ¯\\_(ツ)_/¯\nProcessing Record 2 of Set 2 | saskylakh\nProcessing Record 3 of Set 2 | waitati\nProcessing Record 4 of Set 2 | ranau\nProcessing Record 5 of Set 2 | hermanus\nProcessing Record 6 of Set 2 | bayir\nProcessing Record 7 of Set 2 | ambanja\nProcessing Record 8 of Set 2 | kaitangata\nProcessing Record 9 of Set 2 | kjollefjord\nProcessing Record 10 of Set 2 | poum\nProcessing Record 11 of Set 2 | saint-philippe\nProcessing Record 12 of Set 2 | elko\nProcessing Record 13 of Set 2 | ancud\nProcessing Record 14 of Set 2 | palomares\nProcessing Record 15 of Set 2 | vaini\nProcessing Record 16 of Set 2 | nieuw amsterdam\nProcessing Record 17 of Set 2 | rawson\nProcessing Record 18 of Set 2 | panaba\nProcessing Record 19 of Set 2 | lander\nProcessing Record 20 of Set 2 | cedar city\nProcessing Record 21 of Set 2 | saleaula\nCity not found ¯\\_(ツ)_/¯\nProcessing Record 22 of Set 2 | los llanos de aridane\nProcessing Record 23 of Set 2 | port alfred\nProcessing Record 24 of Set 2 | cape town\nProcessing Record 25 of Set 2 | east london\nProcessing Record 26 of Set 2 | illoqqortoormiut\nCity not found ¯\\_(ツ)_/¯\nProcessing Record 27 of Set 2 | miri\nProcessing Record 28 of Set 2 | nahan\nProcessing Record 29 of Set 2 | karauzyak\nCity not found ¯\\_(ツ)_/¯\nProcessing Record 30 of Set 2 | hiriyur\nProcessing Record 31 of Set 2 | fortuna\nProcessing Record 32 of Set 2 | sentyabrskiy\nCity not found ¯\\_(ツ)_/¯\nProcessing Record 33 of Set 2 | vardo\nProcessing Record 34 of Set 2 | atuona\nProcessing Record 35 of Set 2 | walvis bay\nProcessing Record 36 of Set 2 | jamestown\nProcessing Record 37 of Set 2 | victoria\nProcessing Record 38 of Set 2 | chuy\nProcessing Record 39 of Set 2 | bembereke\nProcessing Record 40 of Set 2 | tocopilla\nProcessing Record 41 of Set 2 | kapaa\nProcessing Record 42 of Set 2 | wulanhaote\nCity not found ¯\\_(ツ)_/¯\nProcessing Record 43 of Set 2 | luderitz\nProcessing Record 44 of Set 2 | yumen\nProcessing Record 45 of Set 2 | nadym\nProcessing Record 46 of Set 2 | karratha\nProcessing Record 47 of Set 2 | mar del plata\nProcessing Record 48 of Set 2 | katherine\nProcessing Record 49 of Set 2 | mount isa\nProcessing Record 50 of Set 2 | luanda\nProcessing Record 1 of Set 3 | pevek\nProcessing Record 2 of Set 3 | haines junction\nProcessing Record 3 of Set 3 | ako\nProcessing Record 4 of Set 3 | kodiak\nProcessing Record 5 of Set 3 | ribeira grande\nProcessing Record 6 of Set 3 | codajas\nProcessing Record 7 of Set 3 | sisophon\nProcessing Record 8 of Set 3 | longyearbyen\nProcessing Record 9 of Set 3 | biltine\nProcessing Record 10 of Set 3 | evinayong\nProcessing Record 11 of Set 3 | georgetown\nProcessing Record 12 of Set 3 | luwuk\nProcessing Record 13 of Set 3 | olafsvik\nProcessing Record 14 of Set 3 | qaanaaq\nProcessing Record 15 of Set 3 | ostrovnoy\nProcessing Record 16 of Set 3 | hithadhoo\nProcessing Record 17 of Set 3 | upernavik\nProcessing Record 18 of Set 3 | tadine\nProcessing Record 19 of Set 3 | aklavik\nProcessing Record 20 of Set 3 | shahganj\nProcessing Record 21 of Set 3 | san cristobal\nProcessing Record 22 of Set 3 | broome\nProcessing Record 23 of Set 3 | lae\nProcessing Record 24 of Set 3 | bengkulu\nProcessing Record 25 of Set 3 | belushya guba\nCity not found ¯\\_(ツ)_/¯\nProcessing Record 26 of Set 3 | khorramshahr\nProcessing Record 27 of Set 3 | neijiang\nProcessing Record 28 of Set 3 | zonguldak\nProcessing Record 29 of Set 3 | cabedelo\nProcessing Record 30 of Set 3 | oranjemund\nProcessing Record 31 of Set 3 | ilulissat\nProcessing Record 32 of Set 3 | tuktoyaktuk\nProcessing Record 33 of Set 3 | marzuq\nProcessing Record 34 of Set 3 | san patricio\nProcessing Record 35 of Set 3 | saldanha\nProcessing Record 36 of Set 3 | artyk\nCity not found ¯\\_(ツ)_/¯\nProcessing Record 37 of Set 3 | oktyabrskoye\nProcessing Record 38 of Set 3 | bredasdorp\nProcessing Record 39 of Set 3 | amos\nProcessing Record 40 of Set 3 | jinchang\nProcessing Record 41 of Set 3 | nizhnevartovsk\nProcessing Record 42 of Set 3 | fare\nProcessing Record 43 of Set 3 | santiago del estero\nProcessing Record 44 of Set 3 | dangriga\nProcessing Record 45 of Set 3 | pyaozerskiy\nProcessing Record 46 of Set 3 | ayan\nProcessing Record 47 of Set 3 | mayor pablo lagerenza\nProcessing Record 48 of Set 3 | diffa\nProcessing Record 49 of Set 3 | delta del tigre\nProcessing Record 50 of Set 3 | hasaki\nProcessing Record 1 of Set 4 | dikson\nProcessing Record 2 of Set 4 | chokurdakh\nProcessing Record 3 of Set 4 | kawana waters\nCity not found ¯\\_(ツ)_/¯\nProcessing Record 4 of Set 4 | seekirchen\nCity not found ¯\\_(ツ)_/¯\nProcessing Record 5 of Set 4 | castro\nProcessing Record 6 of Set 4 | chadiza\nProcessing Record 7 of Set 4 | lisakovsk\nProcessing Record 8 of Set 4 | college\nProcessing Record 9 of Set 4 | cidreira\nProcessing Record 10 of Set 4 | te anau\nProcessing Record 11 of Set 4 | abu kamal\nProcessing Record 12 of Set 4 | ismailia\nProcessing Record 13 of Set 4 | acapulco\nProcessing Record 14 of Set 4 | bluff\nProcessing Record 15 of Set 4 | severnyy\nProcessing Record 16 of Set 4 | andenes\nProcessing Record 17 of Set 4 | jacareacanga\nProcessing Record 18 of Set 4 | codrington\nProcessing Record 19 of Set 4 | namibe\nProcessing Record 20 of Set 4 | dumai\nProcessing Record 21 of Set 4 | puerto ayora\nProcessing Record 22 of Set 4 | kapuskasing\nProcessing Record 23 of Set 4 | salalah\nProcessing Record 24 of Set 4 | pafos\nProcessing Record 25 of Set 4 | souillac\nProcessing Record 26 of Set 4 | itarema\nProcessing Record 27 of Set 4 | demirci\nProcessing Record 28 of Set 4 | wajima\nProcessing Record 29 of Set 4 | santa cruz del norte\nProcessing Record 30 of Set 4 | redmond\nProcessing Record 31 of Set 4 | tual\nProcessing Record 32 of Set 4 | manokwari\nProcessing Record 33 of Set 4 | ashington\nProcessing Record 34 of Set 4 | louisbourg\nCity not found ¯\\_(ツ)_/¯\nProcessing Record 35 of Set 4 | thompson\nProcessing Record 36 of Set 4 | torbay\nProcessing Record 37 of Set 4 | bira\nProcessing Record 38 of Set 4 | dunedin\nProcessing Record 39 of Set 4 | nikolskoye\nProcessing Record 40 of Set 4 | gizo\nProcessing Record 41 of Set 4 | gerash\nProcessing Record 42 of Set 4 | mairana\nProcessing Record 43 of Set 4 | raudeberg\nProcessing Record 44 of Set 4 | airai\nProcessing Record 45 of Set 4 | mason city\nProcessing Record 46 of Set 4 | kilosa\nProcessing Record 47 of Set 4 | trairi\nProcessing Record 48 of Set 4 | barentsburg\nCity not found ¯\\_(ツ)_/¯\nProcessing Record 49 of Set 4 | kegayli\nCity not found ¯\\_(ツ)_/¯\nProcessing Record 50 of Set 4 | dingle\nProcessing Record 1 of Set 5 | alihe\nProcessing Record 2 of Set 5 | homer\nProcessing Record 3 of Set 5 | otjiwarongo\nProcessing Record 4 of Set 5 | lata\nProcessing Record 5 of Set 5 | sambava\nProcessing Record 6 of Set 5 | bathsheba\nProcessing Record 7 of Set 5 | axim\nProcessing Record 8 of Set 5 | litoral del san juan\nCity not found ¯\\_(ツ)_/¯\nProcessing Record 9 of Set 5 | darab\nProcessing Record 10 of Set 5 | faya\nProcessing Record 11 of Set 5 | roald\nProcessing Record 12 of Set 5 | north platte\nProcessing Record 13 of Set 5 | portland\nProcessing Record 14 of Set 5 | beloha\nProcessing Record 15 of Set 5 | kinango\nProcessing Record 16 of Set 5 | bintulu\nProcessing Record 17 of Set 5 | la asuncion\nProcessing Record 18 of Set 5 | kenai\nProcessing Record 19 of Set 5 | jibuti\nProcessing Record 20 of Set 5 | vaitupu\nCity not found ¯\\_(ツ)_/¯\nProcessing Record 21 of Set 5 | galveston\nProcessing Record 22 of Set 5 | agde\nProcessing Record 23 of Set 5 | padang\nProcessing Record 24 of Set 5 | mogadishu\nProcessing Record 25 of Set 5 | pekan\nProcessing Record 26 of Set 5 | diego de almagro\nProcessing Record 27 of Set 5 | kantang\nProcessing Record 28 of Set 5 | rundu\nProcessing Record 29 of Set 5 | twin falls\nProcessing Record 30 of Set 5 | zhezkazgan\nProcessing Record 31 of Set 5 | ranong\nProcessing Record 32 of Set 5 | douglas\nProcessing Record 33 of Set 5 | wittmund\nProcessing Record 34 of Set 5 | rovaniemi\nProcessing Record 35 of Set 5 | bambanglipuro\nProcessing Record 36 of Set 5 | nara\nProcessing Record 37 of Set 5 | tobol\nProcessing Record 38 of Set 5 | finschhafen\nProcessing Record 39 of Set 5 | paamiut\nProcessing Record 40 of Set 5 | lang suan\nProcessing Record 41 of Set 5 | port moresby\nProcessing Record 42 of Set 5 | celestun\nProcessing Record 43 of Set 5 | aden\nProcessing Record 44 of Set 5 | kayasula\nProcessing Record 45 of Set 5 | luangwa\nProcessing Record 46 of Set 5 | provideniya\nProcessing Record 47 of Set 5 | kahului\nProcessing Record 48 of Set 5 | burns lake\nProcessing Record 49 of Set 5 | njinikom\nProcessing Record 50 of Set 5 | new norfolk\nProcessing Record 1 of Set 6 | chatham\nProcessing Record 2 of Set 6 | nampa\nProcessing Record 3 of Set 6 | goma\nProcessing Record 4 of Set 6 | mulatupo\nProcessing Record 5 of Set 6 | samusu\nCity not found ¯\\_(ツ)_/¯\nProcessing Record 6 of Set 6 | aykhal\nProcessing Record 7 of Set 6 | emba\nProcessing Record 8 of Set 6 | zhigansk\nProcessing Record 9 of Set 6 | taltal\nProcessing Record 10 of Set 6 | nagato\nProcessing Record 11 of Set 6 | pacifica\nProcessing Record 12 of Set 6 | natal\nProcessing Record 13 of Set 6 | okhotsk\nProcessing Record 14 of Set 6 | nampula\nProcessing Record 15 of Set 6 | coihaique\nProcessing Record 16 of Set 6 | mayumba\nProcessing Record 17 of Set 6 | ayer itam\nCity not found ¯\\_(ツ)_/¯\nProcessing Record 18 of Set 6 | tasiilaq\nProcessing Record 19 of Set 6 | denpasar\nProcessing Record 20 of Set 6 | areka\nProcessing Record 21 of Set 6 | lolua\nCity not found ¯\\_(ツ)_/¯\nProcessing Record 22 of Set 6 | grindavik\nProcessing Record 23 of Set 6 | sterling\nProcessing Record 24 of Set 6 | ahipara\nProcessing Record 25 of Set 6 | koboko\nProcessing Record 26 of Set 6 | udachnyy\nProcessing Record 27 of Set 6 | talnakh\nProcessing Record 28 of Set 6 | puerto narino\nProcessing Record 29 of Set 6 | kamina\nProcessing Record 30 of Set 6 | marcona\nCity not found ¯\\_(ツ)_/¯\nProcessing Record 31 of Set 6 | valparaiso\nProcessing Record 32 of Set 6 | kavieng\nProcessing Record 33 of Set 6 | thinadhoo\nProcessing Record 34 of Set 6 | novonikolsk\nProcessing Record 35 of Set 6 | kyren\nProcessing Record 36 of Set 6 | srednekolymsk\nProcessing Record 37 of Set 6 | tortoli\nProcessing Record 38 of Set 6 | faanui\nProcessing Record 39 of Set 6 | port lincoln\nProcessing Record 40 of Set 6 | lebu\nProcessing Record 41 of Set 6 | tazovskiy\nProcessing Record 42 of Set 6 | mazyr\nProcessing Record 43 of Set 6 | ceyranbatan\nProcessing Record 44 of Set 6 | sinnamary\nProcessing Record 45 of Set 6 | papetoai\nProcessing Record 46 of Set 6 | fort morgan\nProcessing Record 47 of Set 6 | west bay\nProcessing Record 48 of Set 6 | anadyr\nProcessing Record 49 of Set 6 | jurado\nProcessing Record 50 of Set 6 | atambua\nProcessing Record 1 of Set 7 | saint-michel-des-saints\nProcessing Record 2 of Set 7 | ellwangen\nProcessing Record 3 of Set 7 | praia\nProcessing Record 4 of Set 7 | geraldton\nProcessing Record 5 of Set 7 | kitui\nProcessing Record 6 of Set 7 | mantua\nProcessing Record 7 of Set 7 | bilokurakyne\nProcessing Record 8 of Set 7 | laguna\nProcessing Record 9 of Set 7 | udarnyy\nProcessing Record 10 of Set 7 | peyima\nProcessing Record 11 of Set 7 | flinders\nProcessing Record 12 of Set 7 | venado tuerto\nProcessing Record 13 of Set 7 | lagoa\nProcessing Record 14 of Set 7 | vila franca do campo\nProcessing Record 15 of Set 7 | little current\nProcessing Record 16 of Set 7 | verkh-usugli\nProcessing Record 17 of Set 7 | bolungarvik\nCity not found ¯\\_(ツ)_/¯\nProcessing Record 18 of Set 7 | nizwa\nProcessing Record 19 of Set 7 | lalibela\nProcessing Record 20 of Set 7 | saint anthony\nProcessing Record 21 of Set 7 | port elizabeth\nProcessing Record 22 of Set 7 | cayenne\nProcessing Record 23 of Set 7 | trelew\nProcessing Record 24 of Set 7 | namatanai\nProcessing Record 25 of Set 7 | sfantu gheorghe\nProcessing Record 26 of Set 7 | rungata\nCity not found ¯\\_(ツ)_/¯\nProcessing Record 27 of Set 7 | san quintin\nProcessing Record 28 of Set 7 | aksarka\nProcessing Record 29 of Set 7 | garden city\nProcessing Record 30 of Set 7 | show low\nProcessing Record 31 of Set 7 | pskov\nProcessing Record 32 of Set 7 | ulladulla\nProcessing Record 33 of Set 7 | ville-marie\nProcessing Record 34 of Set 7 | alofi\nProcessing Record 35 of Set 7 | yangjiang\nProcessing Record 36 of Set 7 | hamilton\nProcessing Record 37 of Set 7 | huambo\nProcessing Record 38 of Set 7 | cururupu\nProcessing Record 39 of Set 7 | khandbari\nProcessing Record 40 of Set 7 | bethel\nProcessing Record 41 of Set 7 | ponta do sol\nProcessing Record 42 of Set 7 | bolshoy tsaryn\nCity not found ¯\\_(ツ)_/¯\nProcessing Record 43 of Set 7 | shimoda\nProcessing Record 44 of Set 7 | tuatapere\nProcessing Record 45 of Set 7 | esperance\nProcessing Record 46 of Set 7 | djougou\nProcessing Record 47 of Set 7 | tsihombe\nCity not found ¯\\_(ツ)_/¯\nProcessing Record 48 of Set 7 | kavaratti\nProcessing Record 49 of Set 7 | constitucion\nProcessing Record 50 of Set 7 | kabwe\nProcessing Record 1 of Set 8 | buon me thuot\nCity not found ¯\\_(ツ)_/¯\nProcessing Record 2 of Set 8 | klaksvik\nProcessing Record 3 of Set 8 | mount gambier\nProcessing Record 4 of Set 8 | shelburne\nProcessing Record 5 of Set 8 | nelson bay\nProcessing Record 6 of Set 8 | abu samrah\nProcessing Record 7 of Set 8 | takoradi\nProcessing Record 8 of Set 8 | la paz\nProcessing Record 9 of Set 8 | inhambane\nProcessing Record 10 of Set 8 | marrakesh\nProcessing Record 11 of Set 8 | fevralsk\nCity not found ¯\\_(ツ)_/¯\nProcessing Record 12 of Set 8 | keuruu\nProcessing Record 13 of Set 8 | nushki\nProcessing Record 14 of Set 8 | sirjan\nProcessing Record 15 of Set 8 | ulaanbaatar\nProcessing Record 16 of Set 8 | ribas do rio pardo\nProcessing Record 17 of Set 8 | yar-sale\nProcessing Record 18 of Set 8 | alibag\nProcessing Record 19 of Set 8 | half moon bay\nProcessing Record 20 of Set 8 | khasan\nProcessing Record 21 of Set 8 | necochea\nProcessing Record 22 of Set 8 | aksu\nProcessing Record 23 of Set 8 | werdohl\nProcessing Record 24 of Set 8 | launceston\nProcessing Record 25 of Set 8 | amapa\nProcessing Record 26 of Set 8 | lasa\nProcessing Record 27 of Set 8 | coahuayana\nProcessing Record 28 of Set 8 | sanchor\nProcessing Record 29 of Set 8 | katsuura\nProcessing Record 30 of Set 8 | mampong\nProcessing Record 31 of Set 8 | severo-kurilsk\nProcessing Record 32 of Set 8 | artyom\nProcessing Record 33 of Set 8 | pisco\nProcessing Record 34 of Set 8 | altamont\nProcessing Record 35 of Set 8 | kumla\nProcessing Record 36 of Set 8 | davila\nProcessing Record 37 of Set 8 | forestville\nProcessing Record 38 of Set 8 | hami\nProcessing Record 39 of Set 8 | tandahimba\nProcessing Record 40 of Set 8 | monrovia\nProcessing Record 41 of Set 8 | zhangjiakou\nProcessing Record 42 of Set 8 | duluth\nProcessing Record 43 of Set 8 | nemuro\nProcessing Record 44 of Set 8 | zagare\nProcessing Record 45 of Set 8 | autazes\nProcessing Record 46 of Set 8 | wattegama\nProcessing Record 47 of Set 8 | utiroa\nCity not found ¯\\_(ツ)_/¯\nProcessing Record 48 of Set 8 | puerto lopez\nProcessing Record 49 of Set 8 | barawe\nCity not found ¯\\_(ツ)_/¯\nProcessing Record 50 of Set 8 | bokspits\nCity not found ¯\\_(ツ)_/¯\nProcessing Record 1 of Set 9 | caborca\nProcessing Record 2 of Set 9 | naugarzan\nCity not found ¯\\_(ツ)_/¯\nProcessing Record 3 of Set 9 | sigli\nProcessing Record 4 of Set 9 | sungaipenuh\nProcessing Record 5 of Set 9 | basco\nProcessing Record 6 of Set 9 | adwa\nProcessing Record 7 of Set 9 | kichera\nProcessing Record 8 of Set 9 | tambun\nProcessing Record 9 of Set 9 | grand-bourg\nProcessing Record 10 of Set 9 | sobolevo\nProcessing Record 11 of Set 9 | pemba\nProcessing Record 12 of Set 9 | oum hadjer\nProcessing Record 13 of Set 9 | naze\nProcessing Record 14 of Set 9 | lorengau\nProcessing Record 15 of Set 9 | clyde river\nProcessing Record 16 of Set 9 | ambovombe\nProcessing Record 17 of Set 9 | innisfail\nProcessing Record 18 of Set 9 | sao filipe\nProcessing Record 19 of Set 9 | ketchikan\nProcessing Record 20 of Set 9 | xuanhua\nProcessing Record 21 of Set 9 | banda aceh\nProcessing Record 22 of Set 9 | sarkand\nProcessing Record 23 of Set 9 | bandarbeyla\nProcessing Record 24 of Set 9 | jardim\nProcessing Record 25 of Set 9 | kerema\nProcessing Record 26 of Set 9 | port antonio\nProcessing Record 27 of Set 9 | coquimbo\nProcessing Record 28 of Set 9 | poltavka\nProcessing Record 29 of Set 9 | teguise\nProcessing Record 30 of Set 9 | dudinka\nProcessing Record 31 of Set 9 | port blair\nProcessing Record 32 of Set 9 | conneaut\nProcessing Record 33 of Set 9 | campeche\nProcessing Record 34 of Set 9 | asau\nProcessing Record 35 of Set 9 | cam ranh\nProcessing Record 36 of Set 9 | karpathos\nProcessing Record 37 of Set 9 | smidovich\nProcessing Record 38 of Set 9 | galbshtadt\nProcessing Record 39 of Set 9 | kamaishi\nProcessing Record 40 of Set 9 | port hardy\nProcessing Record 41 of Set 9 | tambovka\nProcessing Record 42 of Set 9 | nizhniy kuranakh\nProcessing Record 43 of Set 9 | isangel\nProcessing Record 44 of Set 9 | hauterive\nProcessing Record 45 of Set 9 | touho\nProcessing Record 46 of Set 9 | shostka\nProcessing Record 47 of Set 9 | grants\nProcessing Record 48 of Set 9 | tunduru\nCity not found ¯\\_(ツ)_/¯\nProcessing Record 49 of Set 9 | tabou\nProcessing Record 50 of Set 9 | westport\nProcessing Record 1 of Set 10 | changping\nProcessing Record 2 of Set 10 | batagay-alyta\nProcessing Record 3 of Set 10 | sesheke\nProcessing Record 4 of Set 10 | angoche\nProcessing Record 5 of Set 10 | ankang\nProcessing Record 6 of Set 10 | talikota\nProcessing Record 7 of Set 10 | meulaboh\nProcessing Record 8 of Set 10 | murray bridge\nProcessing Record 9 of Set 10 | narathiwat\nProcessing Record 10 of Set 10 | kruisfontein\nProcessing Record 11 of Set 10 | attawapiskat\nCity not found ¯\\_(ツ)_/¯\nProcessing Record 12 of Set 10 | buraydah\nProcessing Record 13 of Set 10 | guerrero negro\nProcessing Record 14 of Set 10 | tautira\nProcessing Record 15 of Set 10 | ayios nikolaos\nProcessing Record 16 of Set 10 | samalaeulu\nCity not found ¯\\_(ツ)_/¯\nProcessing Record 17 of Set 10 | sao joao da barra\nProcessing Record 18 of Set 10 | san rafael\nProcessing Record 19 of Set 10 | omboue\nProcessing Record 20 of Set 10 | daru\nProcessing Record 21 of Set 10 | la palma\nProcessing Record 22 of Set 10 | muros\nProcessing Record 23 of Set 10 | porto novo\nProcessing Record 24 of Set 10 | quelimane\nProcessing Record 25 of Set 10 | belmonte\nProcessing Record 26 of Set 10 | sirtich\nProcessing Record 27 of Set 10 | la rioja\nProcessing Record 28 of Set 10 | poopo\nProcessing Record 29 of Set 10 | verkhnyaya inta\nProcessing Record 30 of Set 10 | avera\nProcessing Record 31 of Set 10 | smithers\nProcessing Record 32 of Set 10 | mranggen\nProcessing Record 33 of Set 10 | emmett\nProcessing Record 34 of Set 10 | tirukkoyilur\nProcessing Record 35 of Set 10 | barra patuca\nProcessing Record 36 of Set 10 | baishishan\nProcessing Record 37 of Set 10 | sioux lookout\nProcessing Record 38 of Set 10 | minden\nProcessing Record 39 of Set 10 | meadow lake\nProcessing Record 40 of Set 10 | ghanzi\nProcessing Record 41 of Set 10 | teya\nProcessing Record 42 of Set 10 | tekkali\nProcessing Record 43 of Set 10 | samana\nProcessing Record 44 of Set 10 | ust-karsk\nProcessing Record 45 of Set 10 | kamenka\nProcessing Record 46 of Set 10 | khonuu\nCity not found ¯\\_(ツ)_/¯\nProcessing Record 47 of Set 10 | urgut\nProcessing Record 48 of Set 10 | mahebourg\nProcessing Record 49 of Set 10 | kitimat\nProcessing Record 50 of Set 10 | petropavlovsk-kamchatskiy\nProcessing Record 1 of Set 11 | adrar\nProcessing Record 2 of Set 11 | nanortalik\nProcessing Record 3 of Set 11 | acari\nProcessing Record 4 of Set 11 | sur\nProcessing Record 5 of Set 11 | hualmay\nProcessing Record 6 of Set 11 | iqaluit\nProcessing Record 7 of Set 11 | maldonado\nProcessing Record 8 of Set 11 | lerwick\nProcessing Record 9 of Set 11 | oussouye\nProcessing Record 10 of Set 11 | neryungri\nProcessing Record 11 of Set 11 | atlantis\nProcessing Record 12 of Set 11 | tezu\nProcessing Record 13 of Set 11 | noumea\nProcessing Record 14 of Set 11 | narsaq\nProcessing Record 15 of Set 11 | hobyo\nProcessing Record 16 of Set 11 | vila velha\nProcessing Record 17 of Set 11 | sa kaeo\nProcessing Record 18 of Set 11 | mattru\nProcessing Record 19 of Set 11 | hvammstangi\nCity not found ¯\\_(ツ)_/¯\nProcessing Record 20 of Set 11 | fairbanks\nProcessing Record 21 of Set 11 | bokoro\nProcessing Record 22 of Set 11 | lagoa formosa\nProcessing Record 23 of Set 11 | naples\nProcessing Record 24 of Set 11 | kunming\nProcessing Record 25 of Set 11 | wagar\nProcessing Record 26 of Set 11 | ghatampur\nProcessing Record 27 of Set 11 | krasnoselkup\nProcessing Record 28 of Set 11 | marfino\nProcessing Record 29 of Set 11 | pundaguitan\nProcessing Record 30 of Set 11 | bayshore gardens\nProcessing Record 31 of Set 11 | the valley\nProcessing Record 32 of Set 11 | altus\nProcessing Record 33 of Set 11 | serpa\nProcessing Record 34 of Set 11 | vanavara\nProcessing Record 35 of Set 11 | roma\nProcessing Record 36 of Set 11 | mchinji\nProcessing Record 37 of Set 11 | praya\nProcessing Record 38 of Set 11 | halifax\nProcessing Record 39 of Set 11 | lahij\nProcessing Record 40 of Set 11 | sorong\nProcessing Record 41 of Set 11 | copiapo\nProcessing Record 42 of Set 11 | luganville\nProcessing Record 43 of Set 11 | ilhabela\nProcessing Record 44 of Set 11 | kraskino\nProcessing Record 45 of Set 11 | sao miguel do araguaia\nProcessing Record 46 of Set 11 | camacha\nProcessing Record 47 of Set 11 | khash\nProcessing Record 48 of Set 11 | vao\nProcessing Record 49 of Set 11 | matay\nProcessing Record 50 of Set 11 | kars\nProcessing Record 1 of Set 12 | gotsu\nProcessing Record 2 of Set 12 | villamontes\nProcessing Record 3 of Set 12 | whitehorse\nProcessing Record 4 of Set 12 | lukovetskiy\nProcessing Record 5 of Set 12 | palabuhanratu\nCity not found ¯\\_(ツ)_/¯\nProcessing Record 6 of Set 12 | cumra\nProcessing Record 7 of Set 12 | beringovskiy\nProcessing Record 8 of Set 12 | staraya toropa\nProcessing Record 9 of Set 12 | todos santos\nProcessing Record 10 of Set 12 | lyngseidet\nProcessing Record 11 of Set 12 | castelnaudary\nProcessing Record 12 of Set 12 | phan rang\nCity not found ¯\\_(ツ)_/¯\nProcessing Record 13 of Set 12 | sarh\nProcessing Record 14 of Set 12 | forlev\nProcessing Record 15 of Set 12 | cap malheureux\nProcessing Record 16 of Set 12 | sape\nProcessing Record 17 of Set 12 | aubenas\nProcessing Record 18 of Set 12 | balabac\nProcessing Record 19 of Set 12 | yulara\nProcessing Record 20 of Set 12 | svetlyy\nProcessing Record 21 of Set 12 | raigarh\nProcessing Record 22 of Set 12 | genhe\nProcessing Record 23 of Set 12 | saint george\nProcessing Record 24 of Set 12 | kuusamo\nProcessing Record 25 of Set 12 | polovinnoye\nProcessing Record 26 of Set 12 | magadi\nProcessing Record 27 of Set 12 | aroeiras\nProcessing Record 28 of Set 12 | liverpool\nProcessing Record 29 of Set 12 | karakose\nCity not found ¯\\_(ツ)_/¯\nProcessing Record 30 of Set 12 | dzhusaly\nCity not found ¯\\_(ツ)_/¯\nProcessing Record 31 of Set 12 | huilong\nProcessing Record 32 of Set 12 | kuche\nCity not found ¯\\_(ツ)_/¯\nProcessing Record 33 of Set 12 | guhagar\nProcessing Record 34 of Set 12 | tumaco\nProcessing Record 35 of Set 12 | bonavista\nProcessing Record 36 of Set 12 | saint stephen\nProcessing Record 37 of Set 12 | komsomolskiy\nProcessing Record 38 of Set 12 | dandeli\nProcessing Record 39 of Set 12 | pacific grove\nProcessing Record 40 of Set 12 | farafangana\nProcessing Record 41 of Set 12 | mildura\nProcessing Record 42 of Set 12 | turtas\nProcessing Record 43 of Set 12 | mehamn\nProcessing Record 44 of Set 12 | kamenskoye\nCity not found ¯\\_(ツ)_/¯\nProcessing Record 45 of Set 12 | tanout\nProcessing Record 46 of Set 12 | rudbar\nProcessing Record 47 of Set 12 | umzimvubu\nCity not found ¯\\_(ツ)_/¯\nProcessing Record 48 of Set 12 | aswan\nProcessing Record 49 of Set 12 | belvedere marittimo\nProcessing Record 50 of Set 12 | suleja\nProcessing Record 1 of Set 13 | norrtalje\nProcessing Record 2 of Set 13 | russell\nProcessing Record 3 of Set 13 | bulgan\nProcessing Record 4 of Set 13 | aflu\nCity not found ¯\\_(ツ)_/¯\nProcessing Record 5 of Set 13 | herat\nProcessing Record 6 of Set 13 | mago\nProcessing Record 7 of Set 13 | caraballeda\nProcessing Record 8 of Set 13 | el ocotito\nProcessing Record 9 of Set 13 | arlit\nProcessing Record 10 of Set 13 | kibakwe\nProcessing Record 11 of Set 13 | lesnoye\nProcessing Record 12 of Set 13 | aberdeen\nProcessing Record 13 of Set 13 | svetlogorsk\nProcessing Record 14 of Set 13 | neiafu\nProcessing Record 15 of Set 13 | saint-georges\nProcessing Record 16 of Set 13 | nogliki\nProcessing Record 17 of Set 13 | mitu\n-----------------------------\nOk its done!\n-----------------------------\n"
    }
   ],
   "source": [
    "\n",
    "# Create an empty list to hold the weather data.\n",
    "city_data = []\n",
    "# Print the beginning of the logging.\n",
    "print(\"Beginning Data Retrieval     \")\n",
    "print(\"-----------------------------\")\n",
    "\n",
    "# Create counters.\n",
    "record_count = 1\n",
    "set_count = 1\n",
    "\n",
    "# Loop through all the cities in the list.\n",
    "for i, city in enumerate(cities):\n",
    "\n",
    "    # Group cities in sets of 50 for logging purposes.\n",
    "    if (i % 50 == 0 and i >= 50):\n",
    "        set_count += 1\n",
    "        record_count = 1\n",
    "    # Create endpoint URL with each city.\n",
    "    city_url = url + \"&q=\" + city.replace(\" \",\"+\")\n",
    "\n",
    "    # Log the URL, record, and set numbers and the city.\n",
    "    print(f\"Processing Record {record_count} of Set {set_count} | {city}\")\n",
    "    # Add 1 to the record count.\n",
    "    record_count += 1\n",
    "\n",
    "    # Run an API request for each of the cities.\n",
    "    try:\n",
    "        # Parse the JSON and retrieve data.\n",
    "        city_weather = requests.get(city_url).json()\n",
    "        # Parse out the needed data.\n",
    "        city_lat = city_weather[\"coord\"][\"lat\"]\n",
    "        city_lng = city_weather[\"coord\"][\"lon\"]\n",
    "        city_max_temp = city_weather[\"main\"][\"temp_max\"]\n",
    "        city_humidity = city_weather[\"main\"][\"humidity\"]\n",
    "        city_clouds = city_weather[\"clouds\"][\"all\"]\n",
    "        city_wind = city_weather[\"wind\"][\"speed\"]\n",
    "        city_country = city_weather[\"sys\"][\"country\"]\n",
    "        city_desc = city_weather[\"weather\"][0][\"description\"]\n",
    "        # Convert the date to ISO standard.\n",
    "        city_date = datetime.utcfromtimestamp(city_weather[\"dt\"]).strftime('%Y-%m-%d %H:%M:%S')\n",
    "        # check for a snow key, if so we add it to our row\n",
    "        try:\n",
    "            city_snow = city_weather[\"snow\"][\"1h\"] * 0.0393701 # need to convert mm to inches also\n",
    "        except:\n",
    "            city_snow = 0\n",
    "        try:\n",
    "            city_rain = city_weather[\"rain\"][\"1h\"] * 0.0393701 # need to convert mm to inches also\n",
    "        except:\n",
    "            city_rain = 0\n",
    "        # Append the city information into city_data list.\n",
    "        city_data.append({\"City\": city.title(),\n",
    "                          \"Lat\": city_lat,\n",
    "                          \"Lng\": city_lng,\n",
    "                          \"Max Temp\": city_max_temp,\n",
    "                          \"Humidity\": city_humidity,\n",
    "                          \"Cloudiness\": city_clouds,\n",
    "                          \"Wind Speed\": city_wind,\n",
    "                          \"Country\": city_country,\n",
    "                          \"Current Description\": city_desc,\n",
    "                          \"Snow (Inches)\": city_snow,\n",
    "                          \"Rain (Inches)\": city_rain})\n",
    "\n",
    "# If an error is experienced, skip the city.\n",
    "    except Exception as e:\n",
    "        print(\"City not found ¯\\_(ツ)_/¯\")\n",
    "        pass\n",
    "\n",
    "# Indicate that Data Loading is complete.\n",
    "print(\"-----------------------------\")\n",
    "print(\"Ok its done!\")\n",
    "print(\"-----------------------------\")"
   ]
  },
  {
   "cell_type": "code",
   "execution_count": 25,
   "metadata": {},
   "outputs": [],
   "source": [
    "# Convert the array of dictionaries to a Pandas DataFrame.\n",
    "city_data_df = pd.DataFrame(city_data)\n",
    "new_column_order = [\"City\", \"Country\",\"Lat\", \"Lng\", \"Max Temp\", \"Humidity\", \"Cloudiness\",\"Wind Speed\",\"Current Description\",\"Rain (Inches)\",\"Snow (Inches)\"]\n",
    "city_data_df = city_data_df[new_column_order]\n",
    "\n",
    "# set the formatting options for rain/snow\n",
    "city_data_df['Rain (Inches)'] = city_data_df['Rain (Inches)'].map(\"{:.1f}\".format)\n",
    "city_data_df['Snow (Inches)'] = city_data_df['Snow (Inches)'].map(\"{:.1f}\".format)\n"
   ]
  },
  {
   "cell_type": "code",
   "execution_count": 26,
   "metadata": {},
   "outputs": [],
   "source": [
    "# Converting Snow/Rain rows to float64\n",
    "city_data_df['Snow (Inches)'] = pd.to_numeric(city_data_df['Snow (Inches)'], errors='coerce')\n",
    "city_data_df['Rain (Inches)'] = pd.to_numeric(city_data_df['Rain (Inches)'], errors='coerce')\n"
   ]
  },
  {
   "cell_type": "code",
   "execution_count": 27,
   "metadata": {},
   "outputs": [],
   "source": [
    "# Create the output file (CSV).\n",
    "output_data_file = './data/WeatherPy_database.csv'\n",
    "# Export the City_Data into a CSV.\n",
    "city_data_df.to_csv(output_data_file, index_label=\"City_ID\")"
   ]
  }
 ],
 "metadata": {
  "language_info": {
   "codemirror_mode": {
    "name": "ipython",
    "version": 3
   },
   "file_extension": ".py",
   "mimetype": "text/x-python",
   "name": "python",
   "nbconvert_exporter": "python",
   "pygments_lexer": "ipython3",
   "version": 3
  },
  "orig_nbformat": 2,
  "kernelspec": {
   "name": "python_defaultSpec_1594373717355",
   "display_name": "Python 3.7.7 64-bit ('PythonData': conda)"
  }
 },
 "nbformat": 4,
 "nbformat_minor": 2
}