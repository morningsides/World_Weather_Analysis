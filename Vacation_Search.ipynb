{
 "cells": [
  {
   "cell_type": "code",
   "execution_count": 1,
   "metadata": {},
   "outputs": [],
   "source": [
    "# Import the dependencies.\n",
    "import pandas as pd\n",
    "import gmaps\n",
    "import requests\n",
    "from datetime import datetime\n",
    "import numpy as np\n",
    "# Import the API keys.\n",
    "from config import api_keys\n",
    "# Use the citipy module to determine city based on latitude and longitude.\n",
    "from citipy import citipy"
   ]
  },
  {
   "cell_type": "code",
   "execution_count": 25,
   "metadata": {},
   "outputs": [
    {
     "output_type": "error",
     "ename": "ValueError",
     "evalue": "could not convert string to float: ",
     "traceback": [
      "\u001b[0;31m---------------------------------------------------------------------------\u001b[0m",
      "\u001b[0;31mValueError\u001b[0m                                Traceback (most recent call last)",
      "\u001b[0;32m<ipython-input-25-7a4aa9eb85f7>\u001b[0m in \u001b[0;36m<module>\u001b[0;34m\u001b[0m\n\u001b[1;32m      1\u001b[0m \u001b[0;31m# Ask the customer to add a minimum and maximum temperature value.\u001b[0m\u001b[0;34m\u001b[0m\u001b[0;34m\u001b[0m\u001b[0;34m\u001b[0m\u001b[0m\n\u001b[0;32m----> 2\u001b[0;31m \u001b[0mmin_temp\u001b[0m \u001b[0;34m=\u001b[0m \u001b[0mfloat\u001b[0m\u001b[0;34m(\u001b[0m\u001b[0minput\u001b[0m\u001b[0;34m(\u001b[0m\u001b[0;34m\"What is the minimum temperature you would like for your trip? \"\u001b[0m\u001b[0;34m)\u001b[0m\u001b[0;34m)\u001b[0m\u001b[0;34m\u001b[0m\u001b[0;34m\u001b[0m\u001b[0m\n\u001b[0m\u001b[1;32m      3\u001b[0m \u001b[0mmax_temp\u001b[0m \u001b[0;34m=\u001b[0m \u001b[0mfloat\u001b[0m\u001b[0;34m(\u001b[0m\u001b[0minput\u001b[0m\u001b[0;34m(\u001b[0m\u001b[0;34m\"What is the maximum temperature you would like for your trip? \"\u001b[0m\u001b[0;34m)\u001b[0m\u001b[0;34m)\u001b[0m\u001b[0;34m\u001b[0m\u001b[0;34m\u001b[0m\u001b[0m\n\u001b[1;32m      4\u001b[0m \u001b[0mwant_rain\u001b[0m \u001b[0;34m=\u001b[0m \u001b[0minput\u001b[0m\u001b[0;34m(\u001b[0m\u001b[0;34m\"Do you want it to be raining? (yes/no) \"\u001b[0m\u001b[0;34m)\u001b[0m\u001b[0;34m.\u001b[0m\u001b[0mlower\u001b[0m\u001b[0;34m(\u001b[0m\u001b[0;34m)\u001b[0m\u001b[0;34m\u001b[0m\u001b[0;34m\u001b[0m\u001b[0m\n\u001b[1;32m      5\u001b[0m \u001b[0mwant_snow\u001b[0m \u001b[0;34m=\u001b[0m \u001b[0minput\u001b[0m\u001b[0;34m(\u001b[0m\u001b[0;34m\"Do you want it to be snowing? (yes/no) \"\u001b[0m\u001b[0;34m)\u001b[0m\u001b[0;34m.\u001b[0m\u001b[0mlower\u001b[0m\u001b[0;34m(\u001b[0m\u001b[0;34m)\u001b[0m\u001b[0;34m\u001b[0m\u001b[0;34m\u001b[0m\u001b[0m\n",
      "\u001b[0;31mValueError\u001b[0m: could not convert string to float: "
     ]
    }
   ],
   "source": [
    "# Ask the customer to add a minimum and maximum temperature value.\n",
    "min_temp = float(input(\"What is the minimum temperature you would like for your trip? \"))\n",
    "max_temp = float(input(\"What is the maximum temperature you would like for your trip? \"))\n",
    "want_rain = input(\"Do you want it to be raining? (yes/no) \").lower()\n",
    "want_snow = input(\"Do you want it to be snowing? (yes/no) \").lower()\n"
   ]
  },
  {
   "cell_type": "code",
   "execution_count": 27,
   "metadata": {
    "tags": []
   },
   "outputs": [
    {
     "output_type": "stream",
     "name": "stdout",
     "text": "70.0 90.0 no no\n"
    }
   ],
   "source": [
    "city_csv = './data/WeatherPy_database.csv'\n",
    "city_data_df = pd.read_csv(city_csv)\n",
    "city_data_df.head()\n",
    "city_data_df.dtypes\n"
   ]
  },
  {
   "cell_type": "code",
   "execution_count": 17,
   "metadata": {},
   "outputs": [],
   "source": [
    "# Filter the dataset to find the cities that fit the criteria.\n",
    "\n",
    "# checking for temp range\n",
    "preferred_cities_df = city_data_df.loc[(city_data_df[\"Max Temp\"] <= max_temp) & \\\n",
    "                                       (city_data_df[\"Max Temp\"] >= min_temp)].dropna()\n"
   ]
  },
  {
   "cell_type": "code",
   "execution_count": 5,
   "metadata": {},
   "outputs": [],
   "source": [
    "# Create DataFrame called hotel_df to store hotel names along with city, country, max temp, and coordinates.\n",
    "hotel_df = preferred_cities_df[[\"City\", \"Country\", \"Max Temp\", \"Lat\", \"Lng\",\"Current Description\"]].copy()\n",
    "hotel_df[\"Hotel Name\"] = \"\""
   ]
  },
  {
   "cell_type": "code",
   "execution_count": 6,
   "metadata": {
    "tags": []
   },
   "outputs": [
    {
     "output_type": "stream",
     "name": "stdout",
     "text": "Checking at location ARTIEM Capri...\nChecking at location Casa Tia Villa...\nHotel not found...skipping\nChecking at location Isles Sunset Lodge...\nChecking at location Guest Hotel...\nChecking at location Hotel Arena Blanca...\nChecking at location The Esplanade Hotel...\nChecking at location Vila Nova Hotel...\nChecking at location El Medina...\nChecking at location Hilo Hawaiian Hotel...\nChecking at location Paradise Inn...\nChecking at location Derogongan Residence...\nChecking at location Hotel Tesoro Los Cabos...\nChecking at location Osprey Beach Hotel...\nChecking at location Gostevoy Dom Terem...\nChecking at location Complexo Sonho Real...\nChecking at location Veranda Paul et Virginie Hotel & Spa...\nChecking at location Aldea del Bazar Hotel and Spa...\nChecking at location Nanning Travelling With Hostel...\nChecking at location Ranau Backpackers Hostel...\nChecking at location Hotel Marrakech...\nChecking at location Gîte kajeon...\nChecking at location Chambres d'hôte \"La Trinité\"...\nChecking at location Hotel Monarca...\nChecking at location Keleti Beach Resort...\nChecking at location Hotel Stardust...\nChecking at location Hotel Amor...\nChecking at location Valle Aridane...\nChecking at location Mega Hotel, Miri...\nChecking at location Farooq Tea Stall...\nChecking at location Villa Enata...\nChecking at location Hampton Inn & Suites Jamestown...\nChecking at location Mini Hotel Central...\nChecking at location Hotel Bio Guera...\nChecking at location Sheraton Kauai Resort at Coconut Beach...\nHotel not found...skipping\nChecking at location ibis Styles Karratha...\nChecking at location Pine Tree Motel...\nChecking at location ibis Styles Mt Isa Verona...\nChecking at location EPIC SANA Luanda...\nChecking at location Hatsune...\nChecking at location Hotel Tamires...\nChecking at location Pyramid Hotel...\nHotel not found...skipping\nChecking at location Cititel Penang...\nChecking at location Hotel Santika Luwuk...\nChecking at location Scoop Guest House...\nChecking at location Sher-E-Panjab family restaurant and Dhaba...\nChecking at location Chenango Valley State Park...\nChecking at location Phils Hotel...\nChecking at location Grage Hotel Bengkulu...\nChecking at location Han'an Hotel...\nChecking at location Süleyman Tez Ev...\nChecking at location Lua Mansa Pousada...\nChecking at location Hotel Cabo Blanco...\nChecking at location Prolesok Mini-hotel...\nChecking at location Amosphère, complexe hôtelier...\nChecking at location Mingshihui Jinchang International Hotel...\nChecking at location Gostinichnyy Kompleks Samotlor...\nChecking at location Maitai Lapita Village Huahine...\nChecking at location Chaleanor Hotel...\nChecking at location Inubosaki Kanko Hotel...\nChecking at location Sankhani Lodge...\nChecking at location HS Hotsson Smart Acapulco...\nChecking at location Full House North Mini-Hotel...\nChecking at location Casa do Ian😎...\nChecking at location Grand Zuri Dumai...\nChecking at location HAMDAN PLAZA HOTEL...\nChecking at location Elysium Hotel...\nChecking at location Bils' Villa...\nChecking at location Windvillage...\nChecking at location Bilgin kız öğrenci evi...\nChecking at location Wajiima Onsen Yashio...\nChecking at location Rioger Art...\nChecking at location Grand Vilia Hotel...\nChecking at location Swiss Belhotel Manokwari...\nChecking at location Tourist House - Sablino...\nChecking at location Imagination Island...\nChecking at location Happy oil Petrol Steshen...\nChecking at location Pousada Field Lilies - Trairi...\nChecking at location Camp Pasica...\nChecking at location Alihe Forestry Hotel...\nChecking at location Casa Maquia...\nChecking at location Melrose...\nChecking at location Atlantis Hotel...\nChecking at location AXIM BEACH RESORT AND SPA...\nHotel not found...skipping\nChecking at location Moonlit Inn Kinango...\nChecking at location 900 Boutique INN...\nChecking at location Colinas de Matasiete...\nChecking at location Comfort Inn & Suites Texas City...\nChecking at location CAPAO Beach Hôtel...\nChecking at location Mercure Padang...\nChecking at location Hotel Juba...\nChecking at location Pekan Budget Hotel...\nChecking at location Reng Ta Chai Boutique HomeStay...\nChecking at location Tinidee Hotel@Ranong...\nChecking at location Puri Brata...\nChecking at location Guesthouse Nara Komachi...\nChecking at location Cossam Guest House...\nChecking at location Chum Tong Hotel...\nChecking at location Lamana Hotel...\nChecking at location Posada Lilia...\nHotel not found...skipping\nChecking at location Gerasimos Safari Lodge...\nChecking at location Maui Seaside Hotel...\nChecking at location Goma, CENTRE D'ACCUEIL CARITAS...\nHotel not found...skipping\nChecking at location Gostinichnyy Kompleks Aylgy...\nChecking at location いそう庵...\nChecking at location Villa Park Hotel | Natal...\nChecking at location Tacab Residencial...\nChecking at location LIKWALE LODGE...\nChecking at location ASTON Denpasar Hotel & Convention Center...\nChecking at location Selam Hotel ሰላም ሆቴል...\nChecking at location Hampton Inn & Suites Washington-Dulles International Airport...\nChecking at location Blue Dove Hotel...\nChecking at location Eware Refugio Amazonico...\nChecking at location Guest House la Grace...\nChecking at location Nusa Island Retreat...\nHotel not found...skipping\nChecking at location Avtostreet...\nChecking at location Energetik, Pansionat Ooo \"Grand Baykal\"...\nChecking at location Bora-Bora Pearl Beach Resort & Spa...\nChecking at location Euro Mini-Hotel...\nChecking at location Summer Garden Sumgait...\nChecking at location ALETHEIA Appartement Sinnamary...\nChecking at location InterContinental Resort And Spa Moorea...\nChecking at location Calypso Cove...\nHotel not found...skipping\nChecking at location Pondok Pesantren Al Muhajirin Atambua...\nChecking at location Motel Du Mont trinity...\nChecking at location Hotel Königin Olga...\nChecking at location LT Aparthotel...\nChecking at location Heritage Bliss Hotel...\nChecking at location Hotel la Favorita...\nChecking at location ГОСТИНИЦА ЮБИЛЕЙНАЯ( ПАЛУБА)...\nHotel not found...skipping\nHotel not found...skipping\nChecking at location Pestana Bahia Praia...\nChecking at location Hawberry Motel...\nChecking at location Gostinitsa \"Sever\"...\nChecking at location Honey Land Hotel Lalibela...\nChecking at location Hôtel Le Dronmi...\nChecking at location Namatanai Hotel...\nChecking at location Hotel Park Sfantu Gheorghe...\nHotel not found...skipping\nChecking at location Quality Inn & Suites Banquet Center...\nChecking at location Taloa Heights...\nChecking at location HUALUXE Yangjiang City Center...\nChecking at location Six Acres Bed & Breakfast...\nChecking at location SiSHotel...\nChecking at location Pousada Través'cia...\nChecking at location नेवारी फाष्टफुड एण्ड लज...\nChecking at location Courtyard by Marriott Danbury...\nChecking at location Hotel do Campo...\nChecking at location Shimoda Tokyu Hotel...\nChecking at location Hotel cathas...\nChecking at location Bismillah Hotel And Lodging...\nChecking at location Tuskers...\nChecking at location The Retreat at the Farm...\nChecking at location Raybow International Hotel...\nChecking at location Oceano...\nChecking at location Les Jardins de La Koutoubia...\nChecking at location Yalemd...\nChecking at location Radisson Blu Resort & Spa - Alibaug, India...\nHotel not found...skipping\nChecking at location Hotel Los Arcos...\nChecking at location Katsuura Hotel Mikazuki...\nChecking at location Adom Upscale Hotel...\nChecking at location Merdan Respect...\nChecking at location Kumla Hotel...\nChecking at location SITIO 3 DAVILA PASUQUIN...\nChecking at location Quality Inn...\nHotel not found...skipping\nChecking at location Eco-Hotel Hall & Restaurant...\nChecking at location Shell Zhangjiakou City Qiaodong District Ginza Hotel...\nChecking at location Apart hotel Tupinambá...\nChecking at location Resguardo Indigena Maguare...\nChecking at location Hotel Los Lagos...\nChecking at location Hotel Riza...\nChecking at location Nathaniel's Lodge...\nChecking at location Maay Assa Hotel...\nHotel not found...skipping\nChecking at location @HOM Premiere Tambun...\nChecking at location Coco Beach Resort...\nChecking at location Guesthouse Samotina...\nChecking at location 奄美ポートタワーホテル...\nChecking at location Lorengau Harbourside Hotel...\nChecking at location MONJA Talilisoa...\nChecking at location Tortuga B&B...\nChecking at location Jinjiang Inn Zhangjiakou Xuanhua People's Park...\nChecking at location OYO 884 Rumoh PMI Hotel...\nChecking at location Гостиница Сарканд...\nChecking at location Elore Lodge...\nChecking at location Trident Hotel...\nHotel not found...skipping\nChecking at location B&B La Casona de Nazaret...\nChecking at location Hotel Sentinel...\nChecking at location Mobile Grove Park...\nHotel not found...skipping\nChecking at location Casa Mika Ciobanus...\nChecking at location Alex...\nChecking at location Dom Gaestehaus...\nChecking at location Hotel Route Inn Kamaishi...\nChecking at location Lyzhnaya Gorka...\nChecking at location Park Pobedy...\nChecking at location Volcano Sea View Tree House...\nChecking at location Aletti Palace Hotel...\nChecking at location Premiere Hotel...\nChecking at location hotêl doufoulougou...\nChecking at location The Westport Inn...\nChecking at location Huachang Hotel...\nChecking at location Protea Hotel by Marriott Zambezi River Lodge...\nChecking at location Guest House HESADA...\nChecking at location 安琪酒店...\nChecking at location Prabhugouda B Bantanur...\nChecking at location Kost Pria...\nChecking at location MUSOR...\nChecking at location Pension Oaoa...\nChecking at location Lefkadi...\nChecking at location Hotel Olako...\nChecking at location New century hotel...\nChecking at location Apartment Av. Castelao...\nChecking at location Tour Eiffel Hotel Benin...\nChecking at location Hotel Flamingo...\nHotel not found...skipping\nChecking at location Casa Concejos...\nHotel not found...skipping\nChecking at location Bushro Adventure - Toko Alat Outdoor Demak...\nChecking at location Hotel SKTC Grand Palace...\nHotel not found...skipping\nChecking at location 白林宾馆...\nChecking at location JKL Inc. R.V Park and Storage...\nChecking at location Ghanzi Farmhouse...\nChecking at location Trinath Gantayat...\nChecking at location The Bannister - Hotel & Yacht Club...\nHotel not found...skipping\nHotel not found...skipping\nChecking at location Shandrani Beachcomber Resort & Spa...\nChecking at location Auberge du Routard...\nChecking at location Pyat' Zvozd...\nChecking at location Circuit House...\nChecking at location Osmani Hotel...\nChecking at location Hotel Vitória Palace...\nChecking at location Thanasiri Hotel & Resort...\nChecking at location Boima Gbondo's Compound...\nHotel not found...skipping\nChecking at location Renaissance Naples Hotel Mediterraneo...\nChecking at location 昆明佳华广场酒店...\nChecking at location Krasnosel'kupnefteprodukt...\nChecking at location Kardiologicheskiy Sanatornyy Tsentr Peredelkino...\nChecking at location Leonardo Family Beach House 1...\nChecking at location Ramada by Wyndham Sarasota...\nChecking at location CeBlue Villas & Beach Resort...\nChecking at location Holiday Inn Express & Suites Altus...\nChecking at location Casa do Caniço...\nChecking at location Church of Churches...\nChecking at location Wingate By Wyndham Rome...\nChecking at location Compass Lodge...\nChecking at location LT Aparthotel...\nChecking at location Hotel Halifax...\nChecking at location The Waigo Hotel...\nChecking at location The Espiritu Hotel...\nChecking at location Hotel Porto Santo & Spa...\nChecking at location Super Hotel Gotsu Ekimae...\nChecking at location Catalhoyuk Hotel...\nChecking at location Hotel California Todos Santos...\nChecking at location Hôtel Restaurant le Clos Fleuri...\nChecking at location Hôtel des Chasses...\nChecking at location Pereybere Hotel & Spa...\nChecking at location Rua Simplício Francisco Nascimento...\nChecking at location Sing and Swing Lodge...\nChecking at location STARiHOTELS Sattigudi Chowk Raigarh...\nChecking at location Companionship Hotel...\nChecking at location Best Western Plus Abbey Inn...\nHotel not found...skipping\nChecking at location Mindri of Magadi...\nChecking at location Hotel Acauã...\nChecking at location Hilton Garden Inn Qidong...\nChecking at location Hotel Seawinds...\nChecking at location Hotel los mellizos...\nChecking at location Shree Lodge...\nChecking at location Domashnyaya Gostinitsa...\nChecking at location Capy Motel...\nChecking at location Macs...\nChecking at location Hotel 15 Letras...\nChecking at location Hotel Svetlogorsk JBIK...\nChecking at location Mystic Sands...\nChecking at location Radisson Grenada Beach Resort...\nHotel not found...skipping\n"
    }
   ],
   "source": [
    "# Set parameters to search for a hotel.\n",
    "params = {\n",
    "    \"radius\": 5000,\n",
    "    \"type\": \"lodging\",\n",
    "    \"key\": api_keys['g_key']\n",
    "}\n",
    "\n",
    "# Iterate through the DataFrame.\n",
    "for index, row in hotel_df.iterrows():\n",
    "    # Get the latitude and longitude.\n",
    "    lat = row[\"Lat\"]\n",
    "    lng = row[\"Lng\"]\n",
    "\n",
    "    # Add the latitude and longitude to location key for the params dictionary.\n",
    "    params[\"location\"] = f\"{lat},{lng}\"\n",
    "\n",
    "    # Use the search term: \"lodging\" and our latitude and longitude.\n",
    "    base_url = \"https://maps.googleapis.com/maps/api/place/nearbysearch/json\"\n",
    "    # Make request and get the JSON data from the search.\n",
    "    hotels = requests.get(base_url, params=params).json()\n",
    "    # Grab the first hotel from the results and store the name.\n",
    "    try:\n",
    "        print(f'Checking at location {hotels[\"results\"][0][\"name\"]}...')\n",
    "        hotel_df.loc[index, \"Hotel Name\"] = hotels[\"results\"][0][\"name\"]\n",
    "    except:\n",
    "        print('Hotel not found...skipping')\n",
    "        continue\n",
    "\n"
   ]
  },
  {
   "cell_type": "code",
   "execution_count": 28,
   "metadata": {},
   "outputs": [
    {
     "output_type": "execute_result",
     "data": {
      "text/plain": "                City Country  Max Temp    Lat     Lng Current Description  \\\n1              Mahon      ES     82.40  39.89    4.27     overcast clouds   \n2    Bambous Virieux      MU     75.99 -20.34   57.76    scattered clouds   \n3             Albany      US     73.00  42.60  -73.97          few clouds   \n6         Butaritari      KI     82.90   3.07  172.79          light rain   \n11           Manggar      ID     79.38  -2.88  108.27          light rain   \n..               ...     ...       ...    ...     ...                 ...   \n560      Caraballeda      VE     70.00  10.61  -66.85          few clouds   \n566      Svetlogorsk      BY     72.99  52.63   29.73    scattered clouds   \n567           Neiafu      TO     76.98 -18.65 -173.98    scattered clouds   \n568    Saint-Georges      GD     78.80  12.06  -61.75    scattered clouds   \n570             Mitu      CO     70.27   1.20  -70.17          light rain   \n\n                        Hotel Name  \n1                     ARTIEM Capri  \n2                   Casa Tia Villa  \n3                                   \n6               Isles Sunset Lodge  \n11                     Guest Hotel  \n..                             ...  \n560                Hotel 15 Letras  \n566         Hotel Svetlogorsk JBIK  \n567                   Mystic Sands  \n568  Radisson Grenada Beach Resort  \n570                                 \n\n[291 rows x 7 columns]",
      "text/html": "<div>\n<style scoped>\n    .dataframe tbody tr th:only-of-type {\n        vertical-align: middle;\n    }\n\n    .dataframe tbody tr th {\n        vertical-align: top;\n    }\n\n    .dataframe thead th {\n        text-align: right;\n    }\n</style>\n<table border=\"1\" class=\"dataframe\">\n  <thead>\n    <tr style=\"text-align: right;\">\n      <th></th>\n      <th>City</th>\n      <th>Country</th>\n      <th>Max Temp</th>\n      <th>Lat</th>\n      <th>Lng</th>\n      <th>Current Description</th>\n      <th>Hotel Name</th>\n    </tr>\n  </thead>\n  <tbody>\n    <tr>\n      <th>1</th>\n      <td>Mahon</td>\n      <td>ES</td>\n      <td>82.40</td>\n      <td>39.89</td>\n      <td>4.27</td>\n      <td>overcast clouds</td>\n      <td>ARTIEM Capri</td>\n    </tr>\n    <tr>\n      <th>2</th>\n      <td>Bambous Virieux</td>\n      <td>MU</td>\n      <td>75.99</td>\n      <td>-20.34</td>\n      <td>57.76</td>\n      <td>scattered clouds</td>\n      <td>Casa Tia Villa</td>\n    </tr>\n    <tr>\n      <th>3</th>\n      <td>Albany</td>\n      <td>US</td>\n      <td>73.00</td>\n      <td>42.60</td>\n      <td>-73.97</td>\n      <td>few clouds</td>\n      <td></td>\n    </tr>\n    <tr>\n      <th>6</th>\n      <td>Butaritari</td>\n      <td>KI</td>\n      <td>82.90</td>\n      <td>3.07</td>\n      <td>172.79</td>\n      <td>light rain</td>\n      <td>Isles Sunset Lodge</td>\n    </tr>\n    <tr>\n      <th>11</th>\n      <td>Manggar</td>\n      <td>ID</td>\n      <td>79.38</td>\n      <td>-2.88</td>\n      <td>108.27</td>\n      <td>light rain</td>\n      <td>Guest Hotel</td>\n    </tr>\n    <tr>\n      <th>...</th>\n      <td>...</td>\n      <td>...</td>\n      <td>...</td>\n      <td>...</td>\n      <td>...</td>\n      <td>...</td>\n      <td>...</td>\n    </tr>\n    <tr>\n      <th>560</th>\n      <td>Caraballeda</td>\n      <td>VE</td>\n      <td>70.00</td>\n      <td>10.61</td>\n      <td>-66.85</td>\n      <td>few clouds</td>\n      <td>Hotel 15 Letras</td>\n    </tr>\n    <tr>\n      <th>566</th>\n      <td>Svetlogorsk</td>\n      <td>BY</td>\n      <td>72.99</td>\n      <td>52.63</td>\n      <td>29.73</td>\n      <td>scattered clouds</td>\n      <td>Hotel Svetlogorsk JBIK</td>\n    </tr>\n    <tr>\n      <th>567</th>\n      <td>Neiafu</td>\n      <td>TO</td>\n      <td>76.98</td>\n      <td>-18.65</td>\n      <td>-173.98</td>\n      <td>scattered clouds</td>\n      <td>Mystic Sands</td>\n    </tr>\n    <tr>\n      <th>568</th>\n      <td>Saint-Georges</td>\n      <td>GD</td>\n      <td>78.80</td>\n      <td>12.06</td>\n      <td>-61.75</td>\n      <td>scattered clouds</td>\n      <td>Radisson Grenada Beach Resort</td>\n    </tr>\n    <tr>\n      <th>570</th>\n      <td>Mitu</td>\n      <td>CO</td>\n      <td>70.27</td>\n      <td>1.20</td>\n      <td>-70.17</td>\n      <td>light rain</td>\n      <td></td>\n    </tr>\n  </tbody>\n</table>\n<p>291 rows × 7 columns</p>\n</div>"
     },
     "metadata": {},
     "execution_count": 28
    }
   ],
   "source": [
    "hotel_df\n"
   ]
  },
  {
   "cell_type": "code",
   "execution_count": 8,
   "metadata": {},
   "outputs": [],
   "source": [
    "# Configure gmaps to use your Google API key.\n",
    "gmaps.configure(api_keys['g_key'])"
   ]
  },
  {
   "cell_type": "code",
   "execution_count": 24,
   "metadata": {},
   "outputs": [
    {
     "output_type": "display_data",
     "data": {
      "text/plain": "Figure(layout=FigureLayout(height='420px'))",
      "application/vnd.jupyter.widget-view+json": {
       "version_major": 2,
       "version_minor": 0,
       "model_id": "396172006c714b158e03a247d4202d31"
      }
     },
     "metadata": {}
    }
   ],
   "source": [
    "# Add a heatmap of temperature for the vacation spots and marker for each city.\n",
    "info_box_template = \"\"\"\n",
    "<dl>\n",
    "<dt><strong>Hotel Name</strong></dt><dd>{Hotel Name}</dd>\n",
    "<dt><strong>City</strong></dt><dd>{City}</dd>\n",
    "<dt><strong>Country</strong></dt><dd>{Country}</dd>\n",
    "<dt><strong>Current Weather</strong></dt><dd>{Current Description} {Max Temp} °F</dd>\n",
    "</dl>\n",
    "\"\"\"\n",
    "hotel_info = [info_box_template.format(**row) for index, row in hotel_df.iterrows()]\n",
    "locations = hotel_df[[\"Lat\", \"Lng\"]]\n",
    "fig = gmaps.figure(center=(35.0, 40.0), zoom_level=1.7)\n",
    "marker_layer = gmaps.marker_layer(locations,info_box_content=hotel_info)\n",
    "fig.add_layer(marker_layer)\n",
    "# Call the figure to plot the data.\n",
    "fig\n"
   ]
  },
  {
   "cell_type": "code",
   "execution_count": 29,
   "metadata": {},
   "outputs": [],
   "source": [
    "# Create the output file (CSV).\n",
    "output_data_file = './data/WeatherPy_vacation.csv'\n",
    "# Export the City_Data into a CSV.\n",
    "hotel_df.to_csv(output_data_file, index_label=\"City_ID\")"
   ]
  }
 ],
 "metadata": {
  "language_info": {
   "codemirror_mode": {
    "name": "ipython",
    "version": 3
   },
   "file_extension": ".py",
   "mimetype": "text/x-python",
   "name": "python",
   "nbconvert_exporter": "python",
   "pygments_lexer": "ipython3",
   "version": 3
  },
  "orig_nbformat": 2,
  "kernelspec": {
   "name": "python_defaultSpec_1594373703873",
   "display_name": "Python 3.7.7 64-bit ('PythonData': conda)"
  }
 },
 "nbformat": 4,
 "nbformat_minor": 2
}