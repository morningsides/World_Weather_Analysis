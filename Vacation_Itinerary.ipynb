{
 "cells": [
  {
   "cell_type": "code",
   "execution_count": 2,
   "metadata": {},
   "outputs": [],
   "source": [
    "# Import the dependencies.\n",
    "import pandas as pd\n",
    "import gmaps\n",
    "import gmaps.datasets\n",
    "import requests\n",
    "# Import the API keys.\n",
    "from config import api_keys\n"
   ]
  },
  {
   "cell_type": "code",
   "execution_count": 3,
   "metadata": {},
   "outputs": [
    {
     "output_type": "execute_result",
     "data": {
      "text/plain": "   City_ID             City Country  Max Temp    Lat     Lng  \\\n0        1            Mahon      ES     82.40  39.89    4.27   \n1        2  Bambous Virieux      MU     75.99 -20.34   57.76   \n2        3           Albany      US     73.00  42.60  -73.97   \n3        6       Butaritari      KI     82.90   3.07  172.79   \n4       11          Manggar      ID     79.38  -2.88  108.27   \n\n  Current Description          Hotel Name  \n0     overcast clouds        ARTIEM Capri  \n1    scattered clouds      Casa Tia Villa  \n2          few clouds                 NaN  \n3          light rain  Isles Sunset Lodge  \n4          light rain         Guest Hotel  ",
      "text/html": "<div>\n<style scoped>\n    .dataframe tbody tr th:only-of-type {\n        vertical-align: middle;\n    }\n\n    .dataframe tbody tr th {\n        vertical-align: top;\n    }\n\n    .dataframe thead th {\n        text-align: right;\n    }\n</style>\n<table border=\"1\" class=\"dataframe\">\n  <thead>\n    <tr style=\"text-align: right;\">\n      <th></th>\n      <th>City_ID</th>\n      <th>City</th>\n      <th>Country</th>\n      <th>Max Temp</th>\n      <th>Lat</th>\n      <th>Lng</th>\n      <th>Current Description</th>\n      <th>Hotel Name</th>\n    </tr>\n  </thead>\n  <tbody>\n    <tr>\n      <th>0</th>\n      <td>1</td>\n      <td>Mahon</td>\n      <td>ES</td>\n      <td>82.40</td>\n      <td>39.89</td>\n      <td>4.27</td>\n      <td>overcast clouds</td>\n      <td>ARTIEM Capri</td>\n    </tr>\n    <tr>\n      <th>1</th>\n      <td>2</td>\n      <td>Bambous Virieux</td>\n      <td>MU</td>\n      <td>75.99</td>\n      <td>-20.34</td>\n      <td>57.76</td>\n      <td>scattered clouds</td>\n      <td>Casa Tia Villa</td>\n    </tr>\n    <tr>\n      <th>2</th>\n      <td>3</td>\n      <td>Albany</td>\n      <td>US</td>\n      <td>73.00</td>\n      <td>42.60</td>\n      <td>-73.97</td>\n      <td>few clouds</td>\n      <td>NaN</td>\n    </tr>\n    <tr>\n      <th>3</th>\n      <td>6</td>\n      <td>Butaritari</td>\n      <td>KI</td>\n      <td>82.90</td>\n      <td>3.07</td>\n      <td>172.79</td>\n      <td>light rain</td>\n      <td>Isles Sunset Lodge</td>\n    </tr>\n    <tr>\n      <th>4</th>\n      <td>11</td>\n      <td>Manggar</td>\n      <td>ID</td>\n      <td>79.38</td>\n      <td>-2.88</td>\n      <td>108.27</td>\n      <td>light rain</td>\n      <td>Guest Hotel</td>\n    </tr>\n  </tbody>\n</table>\n</div>"
     },
     "metadata": {},
     "execution_count": 3
    }
   ],
   "source": [
    "city_csv = 'WeatherPy_vacation.csv'\n",
    "city_data_df = pd.read_csv(city_csv)\n",
    "city_data_df.head()\n"
   ]
  },
  {
   "cell_type": "code",
   "execution_count": 4,
   "metadata": {},
   "outputs": [],
   "source": [
    "us_cities = ['Hamilton','Russell','Sterling','Broome']"
   ]
  },
  {
   "cell_type": "code",
   "execution_count": 5,
   "metadata": {},
   "outputs": [
    {
     "output_type": "execute_result",
     "data": {
      "text/plain": "   City_ID      City Country  Max Temp    Lat    Lng Current Description  \\\n0      310  Hamilton      US     75.99  39.18 -84.53                mist   \n1      556   Russell      US     75.20  32.35 -85.20          light rain   \n2      250  Sterling      US     73.40  39.01 -77.43          few clouds   \n3      111    Broome      US     71.01  42.25 -75.83           clear sky   \n\n                                          Hotel Name  \n0                          Six Acres Bed & Breakfast  \n1                                               Macs  \n2  Hampton Inn & Suites Washington-Dulles Interna...  \n3                         Chenango Valley State Park  ",
      "text/html": "<div>\n<style scoped>\n    .dataframe tbody tr th:only-of-type {\n        vertical-align: middle;\n    }\n\n    .dataframe tbody tr th {\n        vertical-align: top;\n    }\n\n    .dataframe thead th {\n        text-align: right;\n    }\n</style>\n<table border=\"1\" class=\"dataframe\">\n  <thead>\n    <tr style=\"text-align: right;\">\n      <th></th>\n      <th>City_ID</th>\n      <th>City</th>\n      <th>Country</th>\n      <th>Max Temp</th>\n      <th>Lat</th>\n      <th>Lng</th>\n      <th>Current Description</th>\n      <th>Hotel Name</th>\n    </tr>\n  </thead>\n  <tbody>\n    <tr>\n      <th>0</th>\n      <td>310</td>\n      <td>Hamilton</td>\n      <td>US</td>\n      <td>75.99</td>\n      <td>39.18</td>\n      <td>-84.53</td>\n      <td>mist</td>\n      <td>Six Acres Bed &amp; Breakfast</td>\n    </tr>\n    <tr>\n      <th>1</th>\n      <td>556</td>\n      <td>Russell</td>\n      <td>US</td>\n      <td>75.20</td>\n      <td>32.35</td>\n      <td>-85.20</td>\n      <td>light rain</td>\n      <td>Macs</td>\n    </tr>\n    <tr>\n      <th>2</th>\n      <td>250</td>\n      <td>Sterling</td>\n      <td>US</td>\n      <td>73.40</td>\n      <td>39.01</td>\n      <td>-77.43</td>\n      <td>few clouds</td>\n      <td>Hampton Inn &amp; Suites Washington-Dulles Interna...</td>\n    </tr>\n    <tr>\n      <th>3</th>\n      <td>111</td>\n      <td>Broome</td>\n      <td>US</td>\n      <td>71.01</td>\n      <td>42.25</td>\n      <td>-75.83</td>\n      <td>clear sky</td>\n      <td>Chenango Valley State Park</td>\n    </tr>\n  </tbody>\n</table>\n</div>"
     },
     "metadata": {},
     "execution_count": 5
    }
   ],
   "source": [
    "# Create a new dataframe for the 4 cities\n",
    "\n",
    "vacation_cities_df = pd.DataFrame()\n",
    "for city in us_cities:\n",
    "    vacation_cities_df = vacation_cities_df.append(city_data_df.loc[(city_data_df['City'] == city) & (city_data_df['Country'] == 'US')], True)\n",
    "vacation_cities_df\n"
   ]
  },
  {
   "cell_type": "code",
   "execution_count": 6,
   "metadata": {},
   "outputs": [
    {
     "output_type": "error",
     "ename": "NameError",
     "evalue": "name 'Avera' is not defined",
     "traceback": [
      "\u001b[0;31m---------------------------------------------------------------------------\u001b[0m",
      "\u001b[0;31mNameError\u001b[0m                                 Traceback (most recent call last)",
      "\u001b[0;32m<ipython-input-6-3724fba99d5e>\u001b[0m in \u001b[0;36m<module>\u001b[0;34m\u001b[0m\n\u001b[1;32m     10\u001b[0m \u001b[0;34m\u001b[0m\u001b[0m\n\u001b[1;32m     11\u001b[0m \u001b[0mfig\u001b[0m \u001b[0;34m=\u001b[0m \u001b[0mgmaps\u001b[0m\u001b[0;34m.\u001b[0m\u001b[0mfigure\u001b[0m\u001b[0;34m(\u001b[0m\u001b[0;34m)\u001b[0m\u001b[0;34m\u001b[0m\u001b[0;34m\u001b[0m\u001b[0m\n\u001b[0;32m---> 12\u001b[0;31m hamiltonAvera = gmaps.directions_layer(Hamilton, Avera,waypoints=[Broome, Sterling],\n\u001b[0m\u001b[1;32m     13\u001b[0m         travel_mode='BICYCLING')\n\u001b[1;32m     14\u001b[0m \u001b[0mfig\u001b[0m\u001b[0;34m.\u001b[0m\u001b[0madd_layer\u001b[0m\u001b[0;34m(\u001b[0m\u001b[0mhamiltonAvera\u001b[0m\u001b[0;34m)\u001b[0m\u001b[0;34m\u001b[0m\u001b[0;34m\u001b[0m\u001b[0m\n",
      "\u001b[0;31mNameError\u001b[0m: name 'Avera' is not defined"
     ]
    }
   ],
   "source": [
    "# Configure gmaps to use your Google API key.\n",
    "gmaps.configure(api_keys['g_key'])\n",
    "# Latitude-longitude pairs\n",
    "\n",
    "\n",
    "Hamilton = (39.18, -84.53)\n",
    "Russell = (33.19, -82.53)\n",
    "Sterling = (39.01, -77.43)\n",
    "Broome = (42.25, -75.83)\n",
    "\n",
    "fig = gmaps.figure()\n",
    "hamiltonAvera = gmaps.directions_layer(Hamilton, Avera,waypoints=[Broome, Sterling],\n",
    "        travel_mode='BICYCLING')\n",
    "fig.add_layer(hamiltonAvera)\n",
    "fig"
   ]
  },
  {
   "cell_type": "code",
   "execution_count": 8,
   "metadata": {},
   "outputs": [
    {
     "output_type": "display_data",
     "data": {
      "text/plain": "Figure(layout=FigureLayout(height='420px'))",
      "application/vnd.jupyter.widget-view+json": {
       "version_major": 2,
       "version_minor": 0,
       "model_id": "d9f35bd28b8b4877a1fc95cfcf978eb4"
      }
     },
     "metadata": {}
    }
   ],
   "source": [
    "\n",
    "info_box_template = \"\"\"\n",
    "<dl>\n",
    "<dt><strong>Hotel Name</strong></dt><dd>{Hotel Name}</dd>\n",
    "<dt><strong>City</strong></dt><dd>{City}</dd>\n",
    "<dt><strong>Country</strong></dt><dd>{Country}</dd>\n",
    "<dt><strong>Current Weather</strong></dt><dd>{Current Description} {Max Temp} °F</dd>\n",
    "</dl>\n",
    "\"\"\"\n",
    "hotel_info = [info_box_template.format(**row) for index, row in vacation_cities_df.iterrows()]\n",
    "locations = vacation_cities_df[[\"Lat\", \"Lng\"]]\n",
    "fig = gmaps.figure(center=(35.0, 40.0), zoom_level=3.7)\n",
    "marker_layer = gmaps.marker_layer(locations,info_box_content=hotel_info)\n",
    "fig.add_layer(marker_layer)\n",
    "# Call the figure to plot the data.\n",
    "fig"
   ]
  },
  {
   "cell_type": "code",
   "execution_count": 20,
   "metadata": {},
   "outputs": [
    {
     "output_type": "error",
     "ename": "NameError",
     "evalue": "name 'vacation_cities_dfvacation_cities_df' is not defined",
     "traceback": [
      "\u001b[0;31m---------------------------------------------------------------------------\u001b[0m",
      "\u001b[0;31mNameError\u001b[0m                                 Traceback (most recent call last)",
      "\u001b[0;32m<ipython-input-20-71eb41b6d918>\u001b[0m in \u001b[0;36m<module>\u001b[0;34m\u001b[0m\n\u001b[1;32m      8\u001b[0m \"\"\"\n\u001b[1;32m      9\u001b[0m \u001b[0mhotel_info\u001b[0m \u001b[0;34m=\u001b[0m \u001b[0;34m[\u001b[0m\u001b[0minfo_box_template\u001b[0m\u001b[0;34m.\u001b[0m\u001b[0mformat\u001b[0m\u001b[0;34m(\u001b[0m\u001b[0;34m**\u001b[0m\u001b[0mrow\u001b[0m\u001b[0;34m)\u001b[0m \u001b[0;32mfor\u001b[0m \u001b[0mindex\u001b[0m\u001b[0;34m,\u001b[0m \u001b[0mrow\u001b[0m \u001b[0;32min\u001b[0m \u001b[0mvacation_cities_df\u001b[0m\u001b[0;34m.\u001b[0m\u001b[0miterrows\u001b[0m\u001b[0;34m(\u001b[0m\u001b[0;34m)\u001b[0m\u001b[0;34m]\u001b[0m\u001b[0;34m\u001b[0m\u001b[0;34m\u001b[0m\u001b[0m\n\u001b[0;32m---> 10\u001b[0;31m \u001b[0mlocations\u001b[0m \u001b[0;34m=\u001b[0m \u001b[0mvacation_cities_dfvacation_cities_df\u001b[0m\u001b[0;34m[\u001b[0m\u001b[0;34m[\u001b[0m\u001b[0;34m\"Lat\"\u001b[0m\u001b[0;34m,\u001b[0m \u001b[0;34m\"Lng\"\u001b[0m\u001b[0;34m]\u001b[0m\u001b[0;34m]\u001b[0m\u001b[0;34m\u001b[0m\u001b[0;34m\u001b[0m\u001b[0m\n\u001b[0m\u001b[1;32m     11\u001b[0m \u001b[0mfig\u001b[0m \u001b[0;34m=\u001b[0m \u001b[0mgmaps\u001b[0m\u001b[0;34m.\u001b[0m\u001b[0mfigure\u001b[0m\u001b[0;34m(\u001b[0m\u001b[0mcenter\u001b[0m\u001b[0;34m=\u001b[0m\u001b[0;34m(\u001b[0m\u001b[0;36m35.0\u001b[0m\u001b[0;34m,\u001b[0m \u001b[0;36m40.0\u001b[0m\u001b[0;34m)\u001b[0m\u001b[0;34m,\u001b[0m \u001b[0mzoom_level\u001b[0m\u001b[0;34m=\u001b[0m\u001b[0;36m1.7\u001b[0m\u001b[0;34m)\u001b[0m\u001b[0;34m\u001b[0m\u001b[0;34m\u001b[0m\u001b[0m\n\u001b[1;32m     12\u001b[0m \u001b[0mmarker_layer\u001b[0m \u001b[0;34m=\u001b[0m \u001b[0mgmaps\u001b[0m\u001b[0;34m.\u001b[0m\u001b[0mmarker_layer\u001b[0m\u001b[0;34m(\u001b[0m\u001b[0mlocations\u001b[0m\u001b[0;34m,\u001b[0m\u001b[0minfo_box_content\u001b[0m\u001b[0;34m=\u001b[0m\u001b[0mhotel_info\u001b[0m\u001b[0;34m)\u001b[0m\u001b[0;34m\u001b[0m\u001b[0;34m\u001b[0m\u001b[0m\n",
      "\u001b[0;31mNameError\u001b[0m: name 'vacation_cities_dfvacation_cities_df' is not defined"
     ]
    }
   ],
   "source": [
    "info_box_template = \"\"\"\n",
    "<dl>\n",
    "<dt><strong>Hotel Name</strong></dt><dd>{Hotel Name}</dd>\n",
    "<dt><strong>City</strong></dt><dd>{City}</dd>\n",
    "<dt><strong>Country</strong></dt><dd>{Country}</dd>\n",
    "<dt><strong>Current Weather</strong></dt><dd>{Current Description} {Max Temp} °F</dd>\n",
    "</dl>\n",
    "\"\"\"\n",
    "hotel_info = [info_box_template.format(**row) for index, row in vacation_cities_df.iterrows()]\n",
    "locations = vacation_cities_dfvacation_cities_df[[\"Lat\", \"Lng\"]]\n",
    "fig = gmaps.figure(center=(35.0, 40.0), zoom_level=1.7)\n",
    "marker_layer = gmaps.marker_layer(locations,info_box_content=hotel_info)\n",
    "fig.add_layer(marker_layer)\n",
    "# Call the figure to plot the data.\n",
    "fig"
   ]
  }
 ],
 "metadata": {
  "language_info": {
   "codemirror_mode": {
    "name": "ipython",
    "version": 3
   },
   "file_extension": ".py",
   "mimetype": "text/x-python",
   "name": "python",
   "nbconvert_exporter": "python",
   "pygments_lexer": "ipython3",
   "version": 3
  },
  "orig_nbformat": 2,
  "kernelspec": {
   "name": "python_defaultSpec_1594387856602",
   "display_name": "Python 3.7.7 64-bit ('PythonData': conda)"
  }
 },
 "nbformat": 4,
 "nbformat_minor": 2
}